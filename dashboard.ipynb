{
 "cells": [
  {
   "cell_type": "code",
   "execution_count": 15,
   "metadata": {},
   "outputs": [
    {
     "data": {
      "application/vnd.jupyter.widget-view+json": {
       "model_id": "54a3f393fbdd43109f9ac7729763df52",
       "version_major": 2,
       "version_minor": 0
      },
      "text/plain": [
       "BokehModel(combine_events=True, render_bundle={'docs_json': {'5cbfef14-0178-4307-810f-169b3e6bff96': {'defs': …"
      ]
     },
     "execution_count": 15,
     "metadata": {},
     "output_type": "execute_result"
    },
    {
     "name": "stderr",
     "output_type": "stream",
     "text": [
      "WARNING:param.main: alpha option not found for violin plot with bokeh; similar options include: ['alpha', 'box_alpha', 'stats_alpha']\n"
     ]
    },
    {
     "ename": "AttributeError",
     "evalue": "'NoneType' object has no attribute 'lookup'",
     "output_type": "error",
     "traceback": [
      "\u001b[0;31m---------------------------------------------------------------------------\u001b[0m",
      "\u001b[0;31mAttributeError\u001b[0m                            Traceback (most recent call last)",
      "File \u001b[0;32m/opt/homebrew/lib/python3.11/site-packages/jupyter_bokeh/widgets.py:128\u001b[0m, in \u001b[0;36mBokehModel._sync_model\u001b[0;34m(self, _, content, _buffers)\u001b[0m\n\u001b[1;32m    126\u001b[0m new, old, attr \u001b[39m=\u001b[39m content[\u001b[39m\"\u001b[39m\u001b[39mnew\u001b[39m\u001b[39m\"\u001b[39m], content[\u001b[39m\"\u001b[39m\u001b[39mold\u001b[39m\u001b[39m\"\u001b[39m], content[\u001b[39m\"\u001b[39m\u001b[39mattr\u001b[39m\u001b[39m\"\u001b[39m]\n\u001b[1;32m    127\u001b[0m submodel \u001b[39m=\u001b[39m \u001b[39mself\u001b[39m\u001b[39m.\u001b[39m_model\u001b[39m.\u001b[39mselect_one({\u001b[39m\"\u001b[39m\u001b[39mid\u001b[39m\u001b[39m\"\u001b[39m: content[\u001b[39m\"\u001b[39m\u001b[39mid\u001b[39m\u001b[39m\"\u001b[39m]})\n\u001b[0;32m--> 128\u001b[0m descriptor \u001b[39m=\u001b[39m submodel\u001b[39m.\u001b[39;49mlookup(content[\u001b[39m'\u001b[39m\u001b[39mattr\u001b[39m\u001b[39m'\u001b[39m])\n\u001b[1;32m    129\u001b[0m \u001b[39mtry\u001b[39;00m:\n\u001b[1;32m    130\u001b[0m     descriptor\u001b[39m.\u001b[39m_set(submodel, old, new, hint\u001b[39m=\u001b[39mhint, setter\u001b[39m=\u001b[39m\u001b[39mself\u001b[39m)\n",
      "\u001b[0;31mAttributeError\u001b[0m: 'NoneType' object has no attribute 'lookup'"
     ]
    },
    {
     "ename": "AttributeError",
     "evalue": "'NoneType' object has no attribute 'lookup'",
     "output_type": "error",
     "traceback": [
      "\u001b[0;31m---------------------------------------------------------------------------\u001b[0m",
      "\u001b[0;31mAttributeError\u001b[0m                            Traceback (most recent call last)",
      "File \u001b[0;32m/opt/homebrew/lib/python3.11/site-packages/jupyter_bokeh/widgets.py:128\u001b[0m, in \u001b[0;36mBokehModel._sync_model\u001b[0;34m(self, _, content, _buffers)\u001b[0m\n\u001b[1;32m    126\u001b[0m new, old, attr \u001b[39m=\u001b[39m content[\u001b[39m\"\u001b[39m\u001b[39mnew\u001b[39m\u001b[39m\"\u001b[39m], content[\u001b[39m\"\u001b[39m\u001b[39mold\u001b[39m\u001b[39m\"\u001b[39m], content[\u001b[39m\"\u001b[39m\u001b[39mattr\u001b[39m\u001b[39m\"\u001b[39m]\n\u001b[1;32m    127\u001b[0m submodel \u001b[39m=\u001b[39m \u001b[39mself\u001b[39m\u001b[39m.\u001b[39m_model\u001b[39m.\u001b[39mselect_one({\u001b[39m\"\u001b[39m\u001b[39mid\u001b[39m\u001b[39m\"\u001b[39m: content[\u001b[39m\"\u001b[39m\u001b[39mid\u001b[39m\u001b[39m\"\u001b[39m]})\n\u001b[0;32m--> 128\u001b[0m descriptor \u001b[39m=\u001b[39m submodel\u001b[39m.\u001b[39;49mlookup(content[\u001b[39m'\u001b[39m\u001b[39mattr\u001b[39m\u001b[39m'\u001b[39m])\n\u001b[1;32m    129\u001b[0m \u001b[39mtry\u001b[39;00m:\n\u001b[1;32m    130\u001b[0m     descriptor\u001b[39m.\u001b[39m_set(submodel, old, new, hint\u001b[39m=\u001b[39mhint, setter\u001b[39m=\u001b[39m\u001b[39mself\u001b[39m)\n",
      "\u001b[0;31mAttributeError\u001b[0m: 'NoneType' object has no attribute 'lookup'"
     ]
    },
    {
     "ename": "AttributeError",
     "evalue": "'NoneType' object has no attribute 'lookup'",
     "output_type": "error",
     "traceback": [
      "\u001b[0;31m---------------------------------------------------------------------------\u001b[0m",
      "\u001b[0;31mAttributeError\u001b[0m                            Traceback (most recent call last)",
      "File \u001b[0;32m/opt/homebrew/lib/python3.11/site-packages/jupyter_bokeh/widgets.py:128\u001b[0m, in \u001b[0;36mBokehModel._sync_model\u001b[0;34m(self, _, content, _buffers)\u001b[0m\n\u001b[1;32m    126\u001b[0m new, old, attr \u001b[39m=\u001b[39m content[\u001b[39m\"\u001b[39m\u001b[39mnew\u001b[39m\u001b[39m\"\u001b[39m], content[\u001b[39m\"\u001b[39m\u001b[39mold\u001b[39m\u001b[39m\"\u001b[39m], content[\u001b[39m\"\u001b[39m\u001b[39mattr\u001b[39m\u001b[39m\"\u001b[39m]\n\u001b[1;32m    127\u001b[0m submodel \u001b[39m=\u001b[39m \u001b[39mself\u001b[39m\u001b[39m.\u001b[39m_model\u001b[39m.\u001b[39mselect_one({\u001b[39m\"\u001b[39m\u001b[39mid\u001b[39m\u001b[39m\"\u001b[39m: content[\u001b[39m\"\u001b[39m\u001b[39mid\u001b[39m\u001b[39m\"\u001b[39m]})\n\u001b[0;32m--> 128\u001b[0m descriptor \u001b[39m=\u001b[39m submodel\u001b[39m.\u001b[39;49mlookup(content[\u001b[39m'\u001b[39m\u001b[39mattr\u001b[39m\u001b[39m'\u001b[39m])\n\u001b[1;32m    129\u001b[0m \u001b[39mtry\u001b[39;00m:\n\u001b[1;32m    130\u001b[0m     descriptor\u001b[39m.\u001b[39m_set(submodel, old, new, hint\u001b[39m=\u001b[39mhint, setter\u001b[39m=\u001b[39m\u001b[39mself\u001b[39m)\n",
      "\u001b[0;31mAttributeError\u001b[0m: 'NoneType' object has no attribute 'lookup'"
     ]
    },
    {
     "ename": "AttributeError",
     "evalue": "'NoneType' object has no attribute 'lookup'",
     "output_type": "error",
     "traceback": [
      "\u001b[0;31m---------------------------------------------------------------------------\u001b[0m",
      "\u001b[0;31mAttributeError\u001b[0m                            Traceback (most recent call last)",
      "File \u001b[0;32m/opt/homebrew/lib/python3.11/site-packages/jupyter_bokeh/widgets.py:128\u001b[0m, in \u001b[0;36mBokehModel._sync_model\u001b[0;34m(self, _, content, _buffers)\u001b[0m\n\u001b[1;32m    126\u001b[0m new, old, attr \u001b[39m=\u001b[39m content[\u001b[39m\"\u001b[39m\u001b[39mnew\u001b[39m\u001b[39m\"\u001b[39m], content[\u001b[39m\"\u001b[39m\u001b[39mold\u001b[39m\u001b[39m\"\u001b[39m], content[\u001b[39m\"\u001b[39m\u001b[39mattr\u001b[39m\u001b[39m\"\u001b[39m]\n\u001b[1;32m    127\u001b[0m submodel \u001b[39m=\u001b[39m \u001b[39mself\u001b[39m\u001b[39m.\u001b[39m_model\u001b[39m.\u001b[39mselect_one({\u001b[39m\"\u001b[39m\u001b[39mid\u001b[39m\u001b[39m\"\u001b[39m: content[\u001b[39m\"\u001b[39m\u001b[39mid\u001b[39m\u001b[39m\"\u001b[39m]})\n\u001b[0;32m--> 128\u001b[0m descriptor \u001b[39m=\u001b[39m submodel\u001b[39m.\u001b[39;49mlookup(content[\u001b[39m'\u001b[39m\u001b[39mattr\u001b[39m\u001b[39m'\u001b[39m])\n\u001b[1;32m    129\u001b[0m \u001b[39mtry\u001b[39;00m:\n\u001b[1;32m    130\u001b[0m     descriptor\u001b[39m.\u001b[39m_set(submodel, old, new, hint\u001b[39m=\u001b[39mhint, setter\u001b[39m=\u001b[39m\u001b[39mself\u001b[39m)\n",
      "\u001b[0;31mAttributeError\u001b[0m: 'NoneType' object has no attribute 'lookup'"
     ]
    },
    {
     "name": "stderr",
     "output_type": "stream",
     "text": [
      "WARNING:param.main: alpha option not found for violin plot with bokeh; similar options include: ['alpha', 'box_alpha', 'stats_alpha']\n",
      "WARNING:param.main: alpha option not found for violin plot with bokeh; similar options include: ['alpha', 'box_alpha', 'stats_alpha']\n",
      "WARNING:param.main: alpha option not found for violin plot with bokeh; similar options include: ['alpha', 'box_alpha', 'stats_alpha']\n"
     ]
    },
    {
     "ename": "AttributeError",
     "evalue": "'NoneType' object has no attribute 'lookup'",
     "output_type": "error",
     "traceback": [
      "\u001b[0;31m---------------------------------------------------------------------------\u001b[0m",
      "\u001b[0;31mAttributeError\u001b[0m                            Traceback (most recent call last)",
      "File \u001b[0;32m/opt/homebrew/lib/python3.11/site-packages/jupyter_bokeh/widgets.py:128\u001b[0m, in \u001b[0;36mBokehModel._sync_model\u001b[0;34m(self, _, content, _buffers)\u001b[0m\n\u001b[1;32m    126\u001b[0m new, old, attr \u001b[39m=\u001b[39m content[\u001b[39m\"\u001b[39m\u001b[39mnew\u001b[39m\u001b[39m\"\u001b[39m], content[\u001b[39m\"\u001b[39m\u001b[39mold\u001b[39m\u001b[39m\"\u001b[39m], content[\u001b[39m\"\u001b[39m\u001b[39mattr\u001b[39m\u001b[39m\"\u001b[39m]\n\u001b[1;32m    127\u001b[0m submodel \u001b[39m=\u001b[39m \u001b[39mself\u001b[39m\u001b[39m.\u001b[39m_model\u001b[39m.\u001b[39mselect_one({\u001b[39m\"\u001b[39m\u001b[39mid\u001b[39m\u001b[39m\"\u001b[39m: content[\u001b[39m\"\u001b[39m\u001b[39mid\u001b[39m\u001b[39m\"\u001b[39m]})\n\u001b[0;32m--> 128\u001b[0m descriptor \u001b[39m=\u001b[39m submodel\u001b[39m.\u001b[39;49mlookup(content[\u001b[39m'\u001b[39m\u001b[39mattr\u001b[39m\u001b[39m'\u001b[39m])\n\u001b[1;32m    129\u001b[0m \u001b[39mtry\u001b[39;00m:\n\u001b[1;32m    130\u001b[0m     descriptor\u001b[39m.\u001b[39m_set(submodel, old, new, hint\u001b[39m=\u001b[39mhint, setter\u001b[39m=\u001b[39m\u001b[39mself\u001b[39m)\n",
      "\u001b[0;31mAttributeError\u001b[0m: 'NoneType' object has no attribute 'lookup'"
     ]
    },
    {
     "ename": "AttributeError",
     "evalue": "'NoneType' object has no attribute 'lookup'",
     "output_type": "error",
     "traceback": [
      "\u001b[0;31m---------------------------------------------------------------------------\u001b[0m",
      "\u001b[0;31mAttributeError\u001b[0m                            Traceback (most recent call last)",
      "File \u001b[0;32m/opt/homebrew/lib/python3.11/site-packages/jupyter_bokeh/widgets.py:128\u001b[0m, in \u001b[0;36mBokehModel._sync_model\u001b[0;34m(self, _, content, _buffers)\u001b[0m\n\u001b[1;32m    126\u001b[0m new, old, attr \u001b[39m=\u001b[39m content[\u001b[39m\"\u001b[39m\u001b[39mnew\u001b[39m\u001b[39m\"\u001b[39m], content[\u001b[39m\"\u001b[39m\u001b[39mold\u001b[39m\u001b[39m\"\u001b[39m], content[\u001b[39m\"\u001b[39m\u001b[39mattr\u001b[39m\u001b[39m\"\u001b[39m]\n\u001b[1;32m    127\u001b[0m submodel \u001b[39m=\u001b[39m \u001b[39mself\u001b[39m\u001b[39m.\u001b[39m_model\u001b[39m.\u001b[39mselect_one({\u001b[39m\"\u001b[39m\u001b[39mid\u001b[39m\u001b[39m\"\u001b[39m: content[\u001b[39m\"\u001b[39m\u001b[39mid\u001b[39m\u001b[39m\"\u001b[39m]})\n\u001b[0;32m--> 128\u001b[0m descriptor \u001b[39m=\u001b[39m submodel\u001b[39m.\u001b[39;49mlookup(content[\u001b[39m'\u001b[39m\u001b[39mattr\u001b[39m\u001b[39m'\u001b[39m])\n\u001b[1;32m    129\u001b[0m \u001b[39mtry\u001b[39;00m:\n\u001b[1;32m    130\u001b[0m     descriptor\u001b[39m.\u001b[39m_set(submodel, old, new, hint\u001b[39m=\u001b[39mhint, setter\u001b[39m=\u001b[39m\u001b[39mself\u001b[39m)\n",
      "\u001b[0;31mAttributeError\u001b[0m: 'NoneType' object has no attribute 'lookup'"
     ]
    },
    {
     "ename": "AttributeError",
     "evalue": "'NoneType' object has no attribute 'lookup'",
     "output_type": "error",
     "traceback": [
      "\u001b[0;31m---------------------------------------------------------------------------\u001b[0m",
      "\u001b[0;31mAttributeError\u001b[0m                            Traceback (most recent call last)",
      "File \u001b[0;32m/opt/homebrew/lib/python3.11/site-packages/jupyter_bokeh/widgets.py:128\u001b[0m, in \u001b[0;36mBokehModel._sync_model\u001b[0;34m(self, _, content, _buffers)\u001b[0m\n\u001b[1;32m    126\u001b[0m new, old, attr \u001b[39m=\u001b[39m content[\u001b[39m\"\u001b[39m\u001b[39mnew\u001b[39m\u001b[39m\"\u001b[39m], content[\u001b[39m\"\u001b[39m\u001b[39mold\u001b[39m\u001b[39m\"\u001b[39m], content[\u001b[39m\"\u001b[39m\u001b[39mattr\u001b[39m\u001b[39m\"\u001b[39m]\n\u001b[1;32m    127\u001b[0m submodel \u001b[39m=\u001b[39m \u001b[39mself\u001b[39m\u001b[39m.\u001b[39m_model\u001b[39m.\u001b[39mselect_one({\u001b[39m\"\u001b[39m\u001b[39mid\u001b[39m\u001b[39m\"\u001b[39m: content[\u001b[39m\"\u001b[39m\u001b[39mid\u001b[39m\u001b[39m\"\u001b[39m]})\n\u001b[0;32m--> 128\u001b[0m descriptor \u001b[39m=\u001b[39m submodel\u001b[39m.\u001b[39;49mlookup(content[\u001b[39m'\u001b[39m\u001b[39mattr\u001b[39m\u001b[39m'\u001b[39m])\n\u001b[1;32m    129\u001b[0m \u001b[39mtry\u001b[39;00m:\n\u001b[1;32m    130\u001b[0m     descriptor\u001b[39m.\u001b[39m_set(submodel, old, new, hint\u001b[39m=\u001b[39mhint, setter\u001b[39m=\u001b[39m\u001b[39mself\u001b[39m)\n",
      "\u001b[0;31mAttributeError\u001b[0m: 'NoneType' object has no attribute 'lookup'"
     ]
    },
    {
     "ename": "AttributeError",
     "evalue": "'NoneType' object has no attribute 'lookup'",
     "output_type": "error",
     "traceback": [
      "\u001b[0;31m---------------------------------------------------------------------------\u001b[0m",
      "\u001b[0;31mAttributeError\u001b[0m                            Traceback (most recent call last)",
      "File \u001b[0;32m/opt/homebrew/lib/python3.11/site-packages/jupyter_bokeh/widgets.py:128\u001b[0m, in \u001b[0;36mBokehModel._sync_model\u001b[0;34m(self, _, content, _buffers)\u001b[0m\n\u001b[1;32m    126\u001b[0m new, old, attr \u001b[39m=\u001b[39m content[\u001b[39m\"\u001b[39m\u001b[39mnew\u001b[39m\u001b[39m\"\u001b[39m], content[\u001b[39m\"\u001b[39m\u001b[39mold\u001b[39m\u001b[39m\"\u001b[39m], content[\u001b[39m\"\u001b[39m\u001b[39mattr\u001b[39m\u001b[39m\"\u001b[39m]\n\u001b[1;32m    127\u001b[0m submodel \u001b[39m=\u001b[39m \u001b[39mself\u001b[39m\u001b[39m.\u001b[39m_model\u001b[39m.\u001b[39mselect_one({\u001b[39m\"\u001b[39m\u001b[39mid\u001b[39m\u001b[39m\"\u001b[39m: content[\u001b[39m\"\u001b[39m\u001b[39mid\u001b[39m\u001b[39m\"\u001b[39m]})\n\u001b[0;32m--> 128\u001b[0m descriptor \u001b[39m=\u001b[39m submodel\u001b[39m.\u001b[39;49mlookup(content[\u001b[39m'\u001b[39m\u001b[39mattr\u001b[39m\u001b[39m'\u001b[39m])\n\u001b[1;32m    129\u001b[0m \u001b[39mtry\u001b[39;00m:\n\u001b[1;32m    130\u001b[0m     descriptor\u001b[39m.\u001b[39m_set(submodel, old, new, hint\u001b[39m=\u001b[39mhint, setter\u001b[39m=\u001b[39m\u001b[39mself\u001b[39m)\n",
      "\u001b[0;31mAttributeError\u001b[0m: 'NoneType' object has no attribute 'lookup'"
     ]
    },
    {
     "name": "stderr",
     "output_type": "stream",
     "text": [
      "WARNING:param.main: alpha option not found for violin plot with bokeh; similar options include: ['alpha', 'box_alpha', 'stats_alpha']\n"
     ]
    },
    {
     "ename": "AttributeError",
     "evalue": "'NoneType' object has no attribute 'lookup'",
     "output_type": "error",
     "traceback": [
      "\u001b[0;31m---------------------------------------------------------------------------\u001b[0m",
      "\u001b[0;31mAttributeError\u001b[0m                            Traceback (most recent call last)",
      "File \u001b[0;32m/opt/homebrew/lib/python3.11/site-packages/jupyter_bokeh/widgets.py:128\u001b[0m, in \u001b[0;36mBokehModel._sync_model\u001b[0;34m(self, _, content, _buffers)\u001b[0m\n\u001b[1;32m    126\u001b[0m new, old, attr \u001b[39m=\u001b[39m content[\u001b[39m\"\u001b[39m\u001b[39mnew\u001b[39m\u001b[39m\"\u001b[39m], content[\u001b[39m\"\u001b[39m\u001b[39mold\u001b[39m\u001b[39m\"\u001b[39m], content[\u001b[39m\"\u001b[39m\u001b[39mattr\u001b[39m\u001b[39m\"\u001b[39m]\n\u001b[1;32m    127\u001b[0m submodel \u001b[39m=\u001b[39m \u001b[39mself\u001b[39m\u001b[39m.\u001b[39m_model\u001b[39m.\u001b[39mselect_one({\u001b[39m\"\u001b[39m\u001b[39mid\u001b[39m\u001b[39m\"\u001b[39m: content[\u001b[39m\"\u001b[39m\u001b[39mid\u001b[39m\u001b[39m\"\u001b[39m]})\n\u001b[0;32m--> 128\u001b[0m descriptor \u001b[39m=\u001b[39m submodel\u001b[39m.\u001b[39;49mlookup(content[\u001b[39m'\u001b[39m\u001b[39mattr\u001b[39m\u001b[39m'\u001b[39m])\n\u001b[1;32m    129\u001b[0m \u001b[39mtry\u001b[39;00m:\n\u001b[1;32m    130\u001b[0m     descriptor\u001b[39m.\u001b[39m_set(submodel, old, new, hint\u001b[39m=\u001b[39mhint, setter\u001b[39m=\u001b[39m\u001b[39mself\u001b[39m)\n",
      "\u001b[0;31mAttributeError\u001b[0m: 'NoneType' object has no attribute 'lookup'"
     ]
    },
    {
     "ename": "AttributeError",
     "evalue": "'NoneType' object has no attribute 'lookup'",
     "output_type": "error",
     "traceback": [
      "\u001b[0;31m---------------------------------------------------------------------------\u001b[0m",
      "\u001b[0;31mAttributeError\u001b[0m                            Traceback (most recent call last)",
      "File \u001b[0;32m/opt/homebrew/lib/python3.11/site-packages/jupyter_bokeh/widgets.py:128\u001b[0m, in \u001b[0;36mBokehModel._sync_model\u001b[0;34m(self, _, content, _buffers)\u001b[0m\n\u001b[1;32m    126\u001b[0m new, old, attr \u001b[39m=\u001b[39m content[\u001b[39m\"\u001b[39m\u001b[39mnew\u001b[39m\u001b[39m\"\u001b[39m], content[\u001b[39m\"\u001b[39m\u001b[39mold\u001b[39m\u001b[39m\"\u001b[39m], content[\u001b[39m\"\u001b[39m\u001b[39mattr\u001b[39m\u001b[39m\"\u001b[39m]\n\u001b[1;32m    127\u001b[0m submodel \u001b[39m=\u001b[39m \u001b[39mself\u001b[39m\u001b[39m.\u001b[39m_model\u001b[39m.\u001b[39mselect_one({\u001b[39m\"\u001b[39m\u001b[39mid\u001b[39m\u001b[39m\"\u001b[39m: content[\u001b[39m\"\u001b[39m\u001b[39mid\u001b[39m\u001b[39m\"\u001b[39m]})\n\u001b[0;32m--> 128\u001b[0m descriptor \u001b[39m=\u001b[39m submodel\u001b[39m.\u001b[39;49mlookup(content[\u001b[39m'\u001b[39m\u001b[39mattr\u001b[39m\u001b[39m'\u001b[39m])\n\u001b[1;32m    129\u001b[0m \u001b[39mtry\u001b[39;00m:\n\u001b[1;32m    130\u001b[0m     descriptor\u001b[39m.\u001b[39m_set(submodel, old, new, hint\u001b[39m=\u001b[39mhint, setter\u001b[39m=\u001b[39m\u001b[39mself\u001b[39m)\n",
      "\u001b[0;31mAttributeError\u001b[0m: 'NoneType' object has no attribute 'lookup'"
     ]
    },
    {
     "ename": "AttributeError",
     "evalue": "'NoneType' object has no attribute 'lookup'",
     "output_type": "error",
     "traceback": [
      "\u001b[0;31m---------------------------------------------------------------------------\u001b[0m",
      "\u001b[0;31mAttributeError\u001b[0m                            Traceback (most recent call last)",
      "File \u001b[0;32m/opt/homebrew/lib/python3.11/site-packages/jupyter_bokeh/widgets.py:128\u001b[0m, in \u001b[0;36mBokehModel._sync_model\u001b[0;34m(self, _, content, _buffers)\u001b[0m\n\u001b[1;32m    126\u001b[0m new, old, attr \u001b[39m=\u001b[39m content[\u001b[39m\"\u001b[39m\u001b[39mnew\u001b[39m\u001b[39m\"\u001b[39m], content[\u001b[39m\"\u001b[39m\u001b[39mold\u001b[39m\u001b[39m\"\u001b[39m], content[\u001b[39m\"\u001b[39m\u001b[39mattr\u001b[39m\u001b[39m\"\u001b[39m]\n\u001b[1;32m    127\u001b[0m submodel \u001b[39m=\u001b[39m \u001b[39mself\u001b[39m\u001b[39m.\u001b[39m_model\u001b[39m.\u001b[39mselect_one({\u001b[39m\"\u001b[39m\u001b[39mid\u001b[39m\u001b[39m\"\u001b[39m: content[\u001b[39m\"\u001b[39m\u001b[39mid\u001b[39m\u001b[39m\"\u001b[39m]})\n\u001b[0;32m--> 128\u001b[0m descriptor \u001b[39m=\u001b[39m submodel\u001b[39m.\u001b[39;49mlookup(content[\u001b[39m'\u001b[39m\u001b[39mattr\u001b[39m\u001b[39m'\u001b[39m])\n\u001b[1;32m    129\u001b[0m \u001b[39mtry\u001b[39;00m:\n\u001b[1;32m    130\u001b[0m     descriptor\u001b[39m.\u001b[39m_set(submodel, old, new, hint\u001b[39m=\u001b[39mhint, setter\u001b[39m=\u001b[39m\u001b[39mself\u001b[39m)\n",
      "\u001b[0;31mAttributeError\u001b[0m: 'NoneType' object has no attribute 'lookup'"
     ]
    },
    {
     "ename": "AttributeError",
     "evalue": "'NoneType' object has no attribute 'lookup'",
     "output_type": "error",
     "traceback": [
      "\u001b[0;31m---------------------------------------------------------------------------\u001b[0m",
      "\u001b[0;31mAttributeError\u001b[0m                            Traceback (most recent call last)",
      "File \u001b[0;32m/opt/homebrew/lib/python3.11/site-packages/jupyter_bokeh/widgets.py:128\u001b[0m, in \u001b[0;36mBokehModel._sync_model\u001b[0;34m(self, _, content, _buffers)\u001b[0m\n\u001b[1;32m    126\u001b[0m new, old, attr \u001b[39m=\u001b[39m content[\u001b[39m\"\u001b[39m\u001b[39mnew\u001b[39m\u001b[39m\"\u001b[39m], content[\u001b[39m\"\u001b[39m\u001b[39mold\u001b[39m\u001b[39m\"\u001b[39m], content[\u001b[39m\"\u001b[39m\u001b[39mattr\u001b[39m\u001b[39m\"\u001b[39m]\n\u001b[1;32m    127\u001b[0m submodel \u001b[39m=\u001b[39m \u001b[39mself\u001b[39m\u001b[39m.\u001b[39m_model\u001b[39m.\u001b[39mselect_one({\u001b[39m\"\u001b[39m\u001b[39mid\u001b[39m\u001b[39m\"\u001b[39m: content[\u001b[39m\"\u001b[39m\u001b[39mid\u001b[39m\u001b[39m\"\u001b[39m]})\n\u001b[0;32m--> 128\u001b[0m descriptor \u001b[39m=\u001b[39m submodel\u001b[39m.\u001b[39;49mlookup(content[\u001b[39m'\u001b[39m\u001b[39mattr\u001b[39m\u001b[39m'\u001b[39m])\n\u001b[1;32m    129\u001b[0m \u001b[39mtry\u001b[39;00m:\n\u001b[1;32m    130\u001b[0m     descriptor\u001b[39m.\u001b[39m_set(submodel, old, new, hint\u001b[39m=\u001b[39mhint, setter\u001b[39m=\u001b[39m\u001b[39mself\u001b[39m)\n",
      "\u001b[0;31mAttributeError\u001b[0m: 'NoneType' object has no attribute 'lookup'"
     ]
    },
    {
     "name": "stderr",
     "output_type": "stream",
     "text": [
      "WARNING:param.main: alpha option not found for violin plot with bokeh; similar options include: ['alpha', 'box_alpha', 'stats_alpha']\n"
     ]
    },
    {
     "ename": "AttributeError",
     "evalue": "'NoneType' object has no attribute 'lookup'",
     "output_type": "error",
     "traceback": [
      "\u001b[0;31m---------------------------------------------------------------------------\u001b[0m",
      "\u001b[0;31mAttributeError\u001b[0m                            Traceback (most recent call last)",
      "File \u001b[0;32m/opt/homebrew/lib/python3.11/site-packages/jupyter_bokeh/widgets.py:128\u001b[0m, in \u001b[0;36mBokehModel._sync_model\u001b[0;34m(self, _, content, _buffers)\u001b[0m\n\u001b[1;32m    126\u001b[0m new, old, attr \u001b[39m=\u001b[39m content[\u001b[39m\"\u001b[39m\u001b[39mnew\u001b[39m\u001b[39m\"\u001b[39m], content[\u001b[39m\"\u001b[39m\u001b[39mold\u001b[39m\u001b[39m\"\u001b[39m], content[\u001b[39m\"\u001b[39m\u001b[39mattr\u001b[39m\u001b[39m\"\u001b[39m]\n\u001b[1;32m    127\u001b[0m submodel \u001b[39m=\u001b[39m \u001b[39mself\u001b[39m\u001b[39m.\u001b[39m_model\u001b[39m.\u001b[39mselect_one({\u001b[39m\"\u001b[39m\u001b[39mid\u001b[39m\u001b[39m\"\u001b[39m: content[\u001b[39m\"\u001b[39m\u001b[39mid\u001b[39m\u001b[39m\"\u001b[39m]})\n\u001b[0;32m--> 128\u001b[0m descriptor \u001b[39m=\u001b[39m submodel\u001b[39m.\u001b[39;49mlookup(content[\u001b[39m'\u001b[39m\u001b[39mattr\u001b[39m\u001b[39m'\u001b[39m])\n\u001b[1;32m    129\u001b[0m \u001b[39mtry\u001b[39;00m:\n\u001b[1;32m    130\u001b[0m     descriptor\u001b[39m.\u001b[39m_set(submodel, old, new, hint\u001b[39m=\u001b[39mhint, setter\u001b[39m=\u001b[39m\u001b[39mself\u001b[39m)\n",
      "\u001b[0;31mAttributeError\u001b[0m: 'NoneType' object has no attribute 'lookup'"
     ]
    },
    {
     "ename": "AttributeError",
     "evalue": "'NoneType' object has no attribute 'lookup'",
     "output_type": "error",
     "traceback": [
      "\u001b[0;31m---------------------------------------------------------------------------\u001b[0m",
      "\u001b[0;31mAttributeError\u001b[0m                            Traceback (most recent call last)",
      "File \u001b[0;32m/opt/homebrew/lib/python3.11/site-packages/jupyter_bokeh/widgets.py:128\u001b[0m, in \u001b[0;36mBokehModel._sync_model\u001b[0;34m(self, _, content, _buffers)\u001b[0m\n\u001b[1;32m    126\u001b[0m new, old, attr \u001b[39m=\u001b[39m content[\u001b[39m\"\u001b[39m\u001b[39mnew\u001b[39m\u001b[39m\"\u001b[39m], content[\u001b[39m\"\u001b[39m\u001b[39mold\u001b[39m\u001b[39m\"\u001b[39m], content[\u001b[39m\"\u001b[39m\u001b[39mattr\u001b[39m\u001b[39m\"\u001b[39m]\n\u001b[1;32m    127\u001b[0m submodel \u001b[39m=\u001b[39m \u001b[39mself\u001b[39m\u001b[39m.\u001b[39m_model\u001b[39m.\u001b[39mselect_one({\u001b[39m\"\u001b[39m\u001b[39mid\u001b[39m\u001b[39m\"\u001b[39m: content[\u001b[39m\"\u001b[39m\u001b[39mid\u001b[39m\u001b[39m\"\u001b[39m]})\n\u001b[0;32m--> 128\u001b[0m descriptor \u001b[39m=\u001b[39m submodel\u001b[39m.\u001b[39;49mlookup(content[\u001b[39m'\u001b[39m\u001b[39mattr\u001b[39m\u001b[39m'\u001b[39m])\n\u001b[1;32m    129\u001b[0m \u001b[39mtry\u001b[39;00m:\n\u001b[1;32m    130\u001b[0m     descriptor\u001b[39m.\u001b[39m_set(submodel, old, new, hint\u001b[39m=\u001b[39mhint, setter\u001b[39m=\u001b[39m\u001b[39mself\u001b[39m)\n",
      "\u001b[0;31mAttributeError\u001b[0m: 'NoneType' object has no attribute 'lookup'"
     ]
    },
    {
     "ename": "AttributeError",
     "evalue": "'NoneType' object has no attribute 'lookup'",
     "output_type": "error",
     "traceback": [
      "\u001b[0;31m---------------------------------------------------------------------------\u001b[0m",
      "\u001b[0;31mAttributeError\u001b[0m                            Traceback (most recent call last)",
      "File \u001b[0;32m/opt/homebrew/lib/python3.11/site-packages/jupyter_bokeh/widgets.py:128\u001b[0m, in \u001b[0;36mBokehModel._sync_model\u001b[0;34m(self, _, content, _buffers)\u001b[0m\n\u001b[1;32m    126\u001b[0m new, old, attr \u001b[39m=\u001b[39m content[\u001b[39m\"\u001b[39m\u001b[39mnew\u001b[39m\u001b[39m\"\u001b[39m], content[\u001b[39m\"\u001b[39m\u001b[39mold\u001b[39m\u001b[39m\"\u001b[39m], content[\u001b[39m\"\u001b[39m\u001b[39mattr\u001b[39m\u001b[39m\"\u001b[39m]\n\u001b[1;32m    127\u001b[0m submodel \u001b[39m=\u001b[39m \u001b[39mself\u001b[39m\u001b[39m.\u001b[39m_model\u001b[39m.\u001b[39mselect_one({\u001b[39m\"\u001b[39m\u001b[39mid\u001b[39m\u001b[39m\"\u001b[39m: content[\u001b[39m\"\u001b[39m\u001b[39mid\u001b[39m\u001b[39m\"\u001b[39m]})\n\u001b[0;32m--> 128\u001b[0m descriptor \u001b[39m=\u001b[39m submodel\u001b[39m.\u001b[39;49mlookup(content[\u001b[39m'\u001b[39m\u001b[39mattr\u001b[39m\u001b[39m'\u001b[39m])\n\u001b[1;32m    129\u001b[0m \u001b[39mtry\u001b[39;00m:\n\u001b[1;32m    130\u001b[0m     descriptor\u001b[39m.\u001b[39m_set(submodel, old, new, hint\u001b[39m=\u001b[39mhint, setter\u001b[39m=\u001b[39m\u001b[39mself\u001b[39m)\n",
      "\u001b[0;31mAttributeError\u001b[0m: 'NoneType' object has no attribute 'lookup'"
     ]
    },
    {
     "ename": "AttributeError",
     "evalue": "'NoneType' object has no attribute 'lookup'",
     "output_type": "error",
     "traceback": [
      "\u001b[0;31m---------------------------------------------------------------------------\u001b[0m",
      "\u001b[0;31mAttributeError\u001b[0m                            Traceback (most recent call last)",
      "File \u001b[0;32m/opt/homebrew/lib/python3.11/site-packages/jupyter_bokeh/widgets.py:128\u001b[0m, in \u001b[0;36mBokehModel._sync_model\u001b[0;34m(self, _, content, _buffers)\u001b[0m\n\u001b[1;32m    126\u001b[0m new, old, attr \u001b[39m=\u001b[39m content[\u001b[39m\"\u001b[39m\u001b[39mnew\u001b[39m\u001b[39m\"\u001b[39m], content[\u001b[39m\"\u001b[39m\u001b[39mold\u001b[39m\u001b[39m\"\u001b[39m], content[\u001b[39m\"\u001b[39m\u001b[39mattr\u001b[39m\u001b[39m\"\u001b[39m]\n\u001b[1;32m    127\u001b[0m submodel \u001b[39m=\u001b[39m \u001b[39mself\u001b[39m\u001b[39m.\u001b[39m_model\u001b[39m.\u001b[39mselect_one({\u001b[39m\"\u001b[39m\u001b[39mid\u001b[39m\u001b[39m\"\u001b[39m: content[\u001b[39m\"\u001b[39m\u001b[39mid\u001b[39m\u001b[39m\"\u001b[39m]})\n\u001b[0;32m--> 128\u001b[0m descriptor \u001b[39m=\u001b[39m submodel\u001b[39m.\u001b[39;49mlookup(content[\u001b[39m'\u001b[39m\u001b[39mattr\u001b[39m\u001b[39m'\u001b[39m])\n\u001b[1;32m    129\u001b[0m \u001b[39mtry\u001b[39;00m:\n\u001b[1;32m    130\u001b[0m     descriptor\u001b[39m.\u001b[39m_set(submodel, old, new, hint\u001b[39m=\u001b[39mhint, setter\u001b[39m=\u001b[39m\u001b[39mself\u001b[39m)\n",
      "\u001b[0;31mAttributeError\u001b[0m: 'NoneType' object has no attribute 'lookup'"
     ]
    },
    {
     "name": "stderr",
     "output_type": "stream",
     "text": [
      "WARNING:param.main: alpha option not found for violin plot with bokeh; similar options include: ['alpha', 'box_alpha', 'stats_alpha']\n"
     ]
    },
    {
     "ename": "AttributeError",
     "evalue": "'NoneType' object has no attribute 'lookup'",
     "output_type": "error",
     "traceback": [
      "\u001b[0;31m---------------------------------------------------------------------------\u001b[0m",
      "\u001b[0;31mAttributeError\u001b[0m                            Traceback (most recent call last)",
      "File \u001b[0;32m/opt/homebrew/lib/python3.11/site-packages/jupyter_bokeh/widgets.py:128\u001b[0m, in \u001b[0;36mBokehModel._sync_model\u001b[0;34m(self, _, content, _buffers)\u001b[0m\n\u001b[1;32m    126\u001b[0m new, old, attr \u001b[39m=\u001b[39m content[\u001b[39m\"\u001b[39m\u001b[39mnew\u001b[39m\u001b[39m\"\u001b[39m], content[\u001b[39m\"\u001b[39m\u001b[39mold\u001b[39m\u001b[39m\"\u001b[39m], content[\u001b[39m\"\u001b[39m\u001b[39mattr\u001b[39m\u001b[39m\"\u001b[39m]\n\u001b[1;32m    127\u001b[0m submodel \u001b[39m=\u001b[39m \u001b[39mself\u001b[39m\u001b[39m.\u001b[39m_model\u001b[39m.\u001b[39mselect_one({\u001b[39m\"\u001b[39m\u001b[39mid\u001b[39m\u001b[39m\"\u001b[39m: content[\u001b[39m\"\u001b[39m\u001b[39mid\u001b[39m\u001b[39m\"\u001b[39m]})\n\u001b[0;32m--> 128\u001b[0m descriptor \u001b[39m=\u001b[39m submodel\u001b[39m.\u001b[39;49mlookup(content[\u001b[39m'\u001b[39m\u001b[39mattr\u001b[39m\u001b[39m'\u001b[39m])\n\u001b[1;32m    129\u001b[0m \u001b[39mtry\u001b[39;00m:\n\u001b[1;32m    130\u001b[0m     descriptor\u001b[39m.\u001b[39m_set(submodel, old, new, hint\u001b[39m=\u001b[39mhint, setter\u001b[39m=\u001b[39m\u001b[39mself\u001b[39m)\n",
      "\u001b[0;31mAttributeError\u001b[0m: 'NoneType' object has no attribute 'lookup'"
     ]
    },
    {
     "ename": "AttributeError",
     "evalue": "'NoneType' object has no attribute 'lookup'",
     "output_type": "error",
     "traceback": [
      "\u001b[0;31m---------------------------------------------------------------------------\u001b[0m",
      "\u001b[0;31mAttributeError\u001b[0m                            Traceback (most recent call last)",
      "File \u001b[0;32m/opt/homebrew/lib/python3.11/site-packages/jupyter_bokeh/widgets.py:128\u001b[0m, in \u001b[0;36mBokehModel._sync_model\u001b[0;34m(self, _, content, _buffers)\u001b[0m\n\u001b[1;32m    126\u001b[0m new, old, attr \u001b[39m=\u001b[39m content[\u001b[39m\"\u001b[39m\u001b[39mnew\u001b[39m\u001b[39m\"\u001b[39m], content[\u001b[39m\"\u001b[39m\u001b[39mold\u001b[39m\u001b[39m\"\u001b[39m], content[\u001b[39m\"\u001b[39m\u001b[39mattr\u001b[39m\u001b[39m\"\u001b[39m]\n\u001b[1;32m    127\u001b[0m submodel \u001b[39m=\u001b[39m \u001b[39mself\u001b[39m\u001b[39m.\u001b[39m_model\u001b[39m.\u001b[39mselect_one({\u001b[39m\"\u001b[39m\u001b[39mid\u001b[39m\u001b[39m\"\u001b[39m: content[\u001b[39m\"\u001b[39m\u001b[39mid\u001b[39m\u001b[39m\"\u001b[39m]})\n\u001b[0;32m--> 128\u001b[0m descriptor \u001b[39m=\u001b[39m submodel\u001b[39m.\u001b[39;49mlookup(content[\u001b[39m'\u001b[39m\u001b[39mattr\u001b[39m\u001b[39m'\u001b[39m])\n\u001b[1;32m    129\u001b[0m \u001b[39mtry\u001b[39;00m:\n\u001b[1;32m    130\u001b[0m     descriptor\u001b[39m.\u001b[39m_set(submodel, old, new, hint\u001b[39m=\u001b[39mhint, setter\u001b[39m=\u001b[39m\u001b[39mself\u001b[39m)\n",
      "\u001b[0;31mAttributeError\u001b[0m: 'NoneType' object has no attribute 'lookup'"
     ]
    },
    {
     "ename": "AttributeError",
     "evalue": "'NoneType' object has no attribute 'lookup'",
     "output_type": "error",
     "traceback": [
      "\u001b[0;31m---------------------------------------------------------------------------\u001b[0m",
      "\u001b[0;31mAttributeError\u001b[0m                            Traceback (most recent call last)",
      "File \u001b[0;32m/opt/homebrew/lib/python3.11/site-packages/jupyter_bokeh/widgets.py:128\u001b[0m, in \u001b[0;36mBokehModel._sync_model\u001b[0;34m(self, _, content, _buffers)\u001b[0m\n\u001b[1;32m    126\u001b[0m new, old, attr \u001b[39m=\u001b[39m content[\u001b[39m\"\u001b[39m\u001b[39mnew\u001b[39m\u001b[39m\"\u001b[39m], content[\u001b[39m\"\u001b[39m\u001b[39mold\u001b[39m\u001b[39m\"\u001b[39m], content[\u001b[39m\"\u001b[39m\u001b[39mattr\u001b[39m\u001b[39m\"\u001b[39m]\n\u001b[1;32m    127\u001b[0m submodel \u001b[39m=\u001b[39m \u001b[39mself\u001b[39m\u001b[39m.\u001b[39m_model\u001b[39m.\u001b[39mselect_one({\u001b[39m\"\u001b[39m\u001b[39mid\u001b[39m\u001b[39m\"\u001b[39m: content[\u001b[39m\"\u001b[39m\u001b[39mid\u001b[39m\u001b[39m\"\u001b[39m]})\n\u001b[0;32m--> 128\u001b[0m descriptor \u001b[39m=\u001b[39m submodel\u001b[39m.\u001b[39;49mlookup(content[\u001b[39m'\u001b[39m\u001b[39mattr\u001b[39m\u001b[39m'\u001b[39m])\n\u001b[1;32m    129\u001b[0m \u001b[39mtry\u001b[39;00m:\n\u001b[1;32m    130\u001b[0m     descriptor\u001b[39m.\u001b[39m_set(submodel, old, new, hint\u001b[39m=\u001b[39mhint, setter\u001b[39m=\u001b[39m\u001b[39mself\u001b[39m)\n",
      "\u001b[0;31mAttributeError\u001b[0m: 'NoneType' object has no attribute 'lookup'"
     ]
    },
    {
     "ename": "AttributeError",
     "evalue": "'NoneType' object has no attribute 'lookup'",
     "output_type": "error",
     "traceback": [
      "\u001b[0;31m---------------------------------------------------------------------------\u001b[0m",
      "\u001b[0;31mAttributeError\u001b[0m                            Traceback (most recent call last)",
      "File \u001b[0;32m/opt/homebrew/lib/python3.11/site-packages/jupyter_bokeh/widgets.py:128\u001b[0m, in \u001b[0;36mBokehModel._sync_model\u001b[0;34m(self, _, content, _buffers)\u001b[0m\n\u001b[1;32m    126\u001b[0m new, old, attr \u001b[39m=\u001b[39m content[\u001b[39m\"\u001b[39m\u001b[39mnew\u001b[39m\u001b[39m\"\u001b[39m], content[\u001b[39m\"\u001b[39m\u001b[39mold\u001b[39m\u001b[39m\"\u001b[39m], content[\u001b[39m\"\u001b[39m\u001b[39mattr\u001b[39m\u001b[39m\"\u001b[39m]\n\u001b[1;32m    127\u001b[0m submodel \u001b[39m=\u001b[39m \u001b[39mself\u001b[39m\u001b[39m.\u001b[39m_model\u001b[39m.\u001b[39mselect_one({\u001b[39m\"\u001b[39m\u001b[39mid\u001b[39m\u001b[39m\"\u001b[39m: content[\u001b[39m\"\u001b[39m\u001b[39mid\u001b[39m\u001b[39m\"\u001b[39m]})\n\u001b[0;32m--> 128\u001b[0m descriptor \u001b[39m=\u001b[39m submodel\u001b[39m.\u001b[39;49mlookup(content[\u001b[39m'\u001b[39m\u001b[39mattr\u001b[39m\u001b[39m'\u001b[39m])\n\u001b[1;32m    129\u001b[0m \u001b[39mtry\u001b[39;00m:\n\u001b[1;32m    130\u001b[0m     descriptor\u001b[39m.\u001b[39m_set(submodel, old, new, hint\u001b[39m=\u001b[39mhint, setter\u001b[39m=\u001b[39m\u001b[39mself\u001b[39m)\n",
      "\u001b[0;31mAttributeError\u001b[0m: 'NoneType' object has no attribute 'lookup'"
     ]
    },
    {
     "name": "stderr",
     "output_type": "stream",
     "text": [
      "WARNING:param.main: alpha option not found for violin plot with bokeh; similar options include: ['alpha', 'box_alpha', 'stats_alpha']\n"
     ]
    },
    {
     "name": "stdout",
     "output_type": "stream",
     "text": [
      "2023-03-04 11:53:26,614 ERROR: panel.reactive - Callback failed for object named \"y\" changing property {'value': ['smoker']} \n",
      "Traceback (most recent call last):\n",
      "  File \"/opt/homebrew/lib/python3.11/site-packages/panel/reactive.py\", line 318, in _process_events\n",
      "    self.param.update(**self_events)\n",
      "  File \"/opt/homebrew/lib/python3.11/site-packages/param/parameterized.py\", line 1902, in update\n",
      "    self_._batch_call_watchers()\n",
      "  File \"/opt/homebrew/lib/python3.11/site-packages/param/parameterized.py\", line 2063, in _batch_call_watchers\n",
      "    self_._execute_watcher(watcher, events)\n",
      "  File \"/opt/homebrew/lib/python3.11/site-packages/param/parameterized.py\", line 2025, in _execute_watcher\n",
      "    watcher.fn(*args, **kwargs)\n",
      "  File \"/opt/homebrew/lib/python3.11/site-packages/panel/param.py\", line 496, in link_widget\n",
      "    self.object.param.update(**{p_name: change.new})\n",
      "  File \"/opt/homebrew/lib/python3.11/site-packages/param/parameterized.py\", line 1902, in update\n",
      "    self_._batch_call_watchers()\n",
      "  File \"/opt/homebrew/lib/python3.11/site-packages/param/parameterized.py\", line 2063, in _batch_call_watchers\n",
      "    self_._execute_watcher(watcher, events)\n",
      "  File \"/opt/homebrew/lib/python3.11/site-packages/param/parameterized.py\", line 2025, in _execute_watcher\n",
      "    watcher.fn(*args, **kwargs)\n",
      "  File \"/opt/homebrew/lib/python3.11/site-packages/param/parameterized.py\", line 669, in caller\n",
      "    return function()\n",
      "           ^^^^^^^^^^\n",
      "  File \"/opt/homebrew/lib/python3.11/site-packages/param/parameterized.py\", line 407, in _depends\n",
      "    return func(*args, **kw)\n",
      "           ^^^^^^^^^^^^^^^^^\n",
      "  File \"/opt/homebrew/lib/python3.11/site-packages/hvplot/ui.py\", line 191, in _update_ranges\n",
      "    self.param.ylim.bounds = ylim\n",
      "    ^^^^^^^^^^^^^^^^^^^^^^\n",
      "  File \"/opt/homebrew/lib/python3.11/site-packages/param/parameterized.py\", line 1141, in __setattr__\n",
      "    self.owner.param._call_watcher(watcher, event)\n",
      "  File \"/opt/homebrew/lib/python3.11/site-packages/param/parameterized.py\", line 2043, in _call_watcher\n",
      "    self_._execute_watcher(watcher, (event,))\n",
      "  File \"/opt/homebrew/lib/python3.11/site-packages/param/parameterized.py\", line 2025, in _execute_watcher\n",
      "    watcher.fn(*args, **kwargs)\n",
      "  File \"/opt/homebrew/lib/python3.11/site-packages/panel/param.py\", line 588, in link\n",
      "    widget.param.update(**updates)\n",
      "  File \"/opt/homebrew/lib/python3.11/site-packages/param/parameterized.py\", line 1902, in update\n",
      "    self_._batch_call_watchers()\n",
      "  File \"/opt/homebrew/lib/python3.11/site-packages/param/parameterized.py\", line 2063, in _batch_call_watchers\n",
      "    self_._execute_watcher(watcher, events)\n",
      "  File \"/opt/homebrew/lib/python3.11/site-packages/param/parameterized.py\", line 2025, in _execute_watcher\n",
      "    watcher.fn(*args, **kwargs)\n",
      "  File \"/opt/homebrew/lib/python3.11/site-packages/panel/reactive.py\", line 308, in _param_change\n",
      "    self._apply_update(named_events, msg, model, ref)\n",
      "  File \"/opt/homebrew/lib/python3.11/site-packages/panel/reactive.py\", line 240, in _apply_update\n",
      "    self._update_model(events, msg, root, model, doc, comm)\n",
      "  File \"/opt/homebrew/lib/python3.11/site-packages/panel/widgets/slider.py\", line 95, in _update_model\n",
      "    return super()._update_model(events, msg, root, model, doc, comm)\n",
      "           ^^^^^^^^^^^^^^^^^^^^^^^^^^^^^^^^^^^^^^^^^^^^^^^^^^^^^^^^^^\n",
      "  File \"/opt/homebrew/lib/python3.11/site-packages/panel/reactive.py\", line 263, in _update_model\n",
      "    model.update(**msg)\n",
      "  File \"/opt/homebrew/lib/python3.11/site-packages/bokeh/core/has_props.py\", line 413, in update\n",
      "    setattr(self, k, v)\n",
      "  File \"/opt/homebrew/lib/python3.11/site-packages/bokeh/core/has_props.py\", line 230, in __setattr__\n",
      "    return super().__setattr__(name, value)\n",
      "           ^^^^^^^^^^^^^^^^^^^^^^^^^^^^^^^^\n",
      "  File \"/opt/homebrew/lib/python3.11/site-packages/bokeh/core/property/descriptors.py\", line 283, in __set__\n",
      "    value = self.property.prepare_value(obj, self.name, value)\n",
      "            ^^^^^^^^^^^^^^^^^^^^^^^^^^^^^^^^^^^^^^^^^^^^^^^^^^\n",
      "  File \"/opt/homebrew/lib/python3.11/site-packages/bokeh/core/property/bases.py\", line 365, in prepare_value\n",
      "    raise ValueError(f\"failed to validate {obj_repr}.{name}: {error}\")\n",
      "ValueError: failed to validate RangeSlider(id='10985', ...).start: expected a value of type Real, got False of type bool_\n"
     ]
    },
    {
     "name": "stderr",
     "output_type": "stream",
     "text": [
      "WARNING:param.main: alpha option not found for violin plot with bokeh; similar options include: ['alpha', 'box_alpha', 'stats_alpha']\n"
     ]
    },
    {
     "name": "stdout",
     "output_type": "stream",
     "text": [
      "2023-03-04 11:53:29,833 ERROR: panel.reactive - Callback failed for object named \"y\" changing property {'value': ['age']} \n",
      "Traceback (most recent call last):\n",
      "  File \"/opt/homebrew/lib/python3.11/site-packages/panel/reactive.py\", line 318, in _process_events\n",
      "    self.param.update(**self_events)\n",
      "  File \"/opt/homebrew/lib/python3.11/site-packages/param/parameterized.py\", line 1902, in update\n",
      "    self_._batch_call_watchers()\n",
      "  File \"/opt/homebrew/lib/python3.11/site-packages/param/parameterized.py\", line 2063, in _batch_call_watchers\n",
      "    self_._execute_watcher(watcher, events)\n",
      "  File \"/opt/homebrew/lib/python3.11/site-packages/param/parameterized.py\", line 2025, in _execute_watcher\n",
      "    watcher.fn(*args, **kwargs)\n",
      "  File \"/opt/homebrew/lib/python3.11/site-packages/panel/param.py\", line 496, in link_widget\n",
      "    self.object.param.update(**{p_name: change.new})\n",
      "  File \"/opt/homebrew/lib/python3.11/site-packages/param/parameterized.py\", line 1902, in update\n",
      "    self_._batch_call_watchers()\n",
      "  File \"/opt/homebrew/lib/python3.11/site-packages/param/parameterized.py\", line 2063, in _batch_call_watchers\n",
      "    self_._execute_watcher(watcher, events)\n",
      "  File \"/opt/homebrew/lib/python3.11/site-packages/param/parameterized.py\", line 2025, in _execute_watcher\n",
      "    watcher.fn(*args, **kwargs)\n",
      "  File \"/opt/homebrew/lib/python3.11/site-packages/param/parameterized.py\", line 669, in caller\n",
      "    return function()\n",
      "           ^^^^^^^^^^\n",
      "  File \"/opt/homebrew/lib/python3.11/site-packages/param/parameterized.py\", line 407, in _depends\n",
      "    return func(*args, **kw)\n",
      "           ^^^^^^^^^^^^^^^^^\n",
      "  File \"/opt/homebrew/lib/python3.11/site-packages/hvplot/ui.py\", line 190, in _update_ranges\n",
      "    self.param.ylim.precedence = 0\n",
      "    ^^^^^^^^^^^^^^^^^^^^^^^^^^\n",
      "  File \"/opt/homebrew/lib/python3.11/site-packages/param/parameterized.py\", line 1141, in __setattr__\n",
      "    self.owner.param._call_watcher(watcher, event)\n",
      "  File \"/opt/homebrew/lib/python3.11/site-packages/param/parameterized.py\", line 2043, in _call_watcher\n",
      "    self_._execute_watcher(watcher, (event,))\n",
      "  File \"/opt/homebrew/lib/python3.11/site-packages/param/parameterized.py\", line 2025, in _execute_watcher\n",
      "    watcher.fn(*args, **kwargs)\n",
      "  File \"/opt/homebrew/lib/python3.11/site-packages/panel/param.py\", line 534, in link\n",
      "    self._rerender()\n",
      "  File \"/opt/homebrew/lib/python3.11/site-packages/panel/param.py\", line 655, in _rerender\n",
      "    self._widget_box.objects = widgets\n",
      "    ^^^^^^^^^^^^^^^^^^^^^^^^\n",
      "  File \"/opt/homebrew/lib/python3.11/site-packages/param/parameterized.py\", line 369, in _f\n",
      "    return f(self, obj, val)\n",
      "           ^^^^^^^^^^^^^^^^^\n",
      "  File \"/opt/homebrew/lib/python3.11/site-packages/param/parameterized.py\", line 1252, in __set__\n",
      "    obj.param._call_watcher(watcher, event)\n",
      "  File \"/opt/homebrew/lib/python3.11/site-packages/param/parameterized.py\", line 2043, in _call_watcher\n",
      "    self_._execute_watcher(watcher, (event,))\n",
      "  File \"/opt/homebrew/lib/python3.11/site-packages/param/parameterized.py\", line 2025, in _execute_watcher\n",
      "    watcher.fn(*args, **kwargs)\n",
      "  File \"/opt/homebrew/lib/python3.11/site-packages/panel/reactive.py\", line 308, in _param_change\n",
      "    self._apply_update(named_events, msg, model, ref)\n",
      "  File \"/opt/homebrew/lib/python3.11/site-packages/panel/reactive.py\", line 240, in _apply_update\n",
      "    self._update_model(events, msg, root, model, doc, comm)\n",
      "  File \"/opt/homebrew/lib/python3.11/site-packages/panel/layout/base.py\", line 87, in _update_model\n",
      "    msg[self._rename['objects']] = self._get_objects(model, old, doc, root, comm)\n",
      "                                   ^^^^^^^^^^^^^^^^^^^^^^^^^^^^^^^^^^^^^^^^^^^^^^\n",
      "  File \"/opt/homebrew/lib/python3.11/site-packages/panel/layout/base.py\", line 131, in _get_objects\n",
      "    child = pane._get_model(doc, root, model, comm)\n",
      "            ^^^^^^^^^^^^^^^^^^^^^^^^^^^^^^^^^^^^^^^\n",
      "  File \"/opt/homebrew/lib/python3.11/site-packages/panel/widgets/base.py\", line 100, in _get_model\n",
      "    model = self._widget_type(**self._process_param_change(self._init_params()))\n",
      "            ^^^^^^^^^^^^^^^^^^^^^^^^^^^^^^^^^^^^^^^^^^^^^^^^^^^^^^^^^^^^^^^^^^^^\n",
      "  File \"/opt/homebrew/lib/python3.11/site-packages/bokeh/models/widgets/sliders.py\", line 80, in __init__\n",
      "    super().__init__(**kwargs)\n",
      "  File \"/opt/homebrew/lib/python3.11/site-packages/bokeh/model/model.py\", line 128, in __init__\n",
      "    super().__init__(**kwargs)\n",
      "  File \"/opt/homebrew/lib/python3.11/site-packages/bokeh/core/has_props.py\", line 206, in __init__\n",
      "    setattr(self, name, value)\n",
      "  File \"/opt/homebrew/lib/python3.11/site-packages/bokeh/core/has_props.py\", line 230, in __setattr__\n",
      "    return super().__setattr__(name, value)\n",
      "           ^^^^^^^^^^^^^^^^^^^^^^^^^^^^^^^^\n",
      "  File \"/opt/homebrew/lib/python3.11/site-packages/bokeh/core/property/descriptors.py\", line 283, in __set__\n",
      "    value = self.property.prepare_value(obj, self.name, value)\n",
      "            ^^^^^^^^^^^^^^^^^^^^^^^^^^^^^^^^^^^^^^^^^^^^^^^^^^\n",
      "  File \"/opt/homebrew/lib/python3.11/site-packages/bokeh/core/property/bases.py\", line 365, in prepare_value\n",
      "    raise ValueError(f\"failed to validate {obj_repr}.{name}: {error}\")\n",
      "ValueError: failed to validate RangeSlider(id='18550', ...).end: expected a value of type Real, got True of type bool_\n"
     ]
    },
    {
     "name": "stderr",
     "output_type": "stream",
     "text": [
      "WARNING:param.main: alpha option not found for violin plot with bokeh; similar options include: ['alpha', 'box_alpha', 'stats_alpha']\n",
      "WARNING:param.main: alpha option not found for violin plot with bokeh; similar options include: ['alpha', 'box_alpha', 'stats_alpha']\n"
     ]
    },
    {
     "ename": "AttributeError",
     "evalue": "'NoneType' object has no attribute 'lookup'",
     "output_type": "error",
     "traceback": [
      "\u001b[0;31m---------------------------------------------------------------------------\u001b[0m",
      "\u001b[0;31mAttributeError\u001b[0m                            Traceback (most recent call last)",
      "File \u001b[0;32m/opt/homebrew/lib/python3.11/site-packages/jupyter_bokeh/widgets.py:128\u001b[0m, in \u001b[0;36mBokehModel._sync_model\u001b[0;34m(self, _, content, _buffers)\u001b[0m\n\u001b[1;32m    126\u001b[0m new, old, attr \u001b[39m=\u001b[39m content[\u001b[39m\"\u001b[39m\u001b[39mnew\u001b[39m\u001b[39m\"\u001b[39m], content[\u001b[39m\"\u001b[39m\u001b[39mold\u001b[39m\u001b[39m\"\u001b[39m], content[\u001b[39m\"\u001b[39m\u001b[39mattr\u001b[39m\u001b[39m\"\u001b[39m]\n\u001b[1;32m    127\u001b[0m submodel \u001b[39m=\u001b[39m \u001b[39mself\u001b[39m\u001b[39m.\u001b[39m_model\u001b[39m.\u001b[39mselect_one({\u001b[39m\"\u001b[39m\u001b[39mid\u001b[39m\u001b[39m\"\u001b[39m: content[\u001b[39m\"\u001b[39m\u001b[39mid\u001b[39m\u001b[39m\"\u001b[39m]})\n\u001b[0;32m--> 128\u001b[0m descriptor \u001b[39m=\u001b[39m submodel\u001b[39m.\u001b[39;49mlookup(content[\u001b[39m'\u001b[39m\u001b[39mattr\u001b[39m\u001b[39m'\u001b[39m])\n\u001b[1;32m    129\u001b[0m \u001b[39mtry\u001b[39;00m:\n\u001b[1;32m    130\u001b[0m     descriptor\u001b[39m.\u001b[39m_set(submodel, old, new, hint\u001b[39m=\u001b[39mhint, setter\u001b[39m=\u001b[39m\u001b[39mself\u001b[39m)\n",
      "\u001b[0;31mAttributeError\u001b[0m: 'NoneType' object has no attribute 'lookup'"
     ]
    },
    {
     "ename": "AttributeError",
     "evalue": "'NoneType' object has no attribute 'lookup'",
     "output_type": "error",
     "traceback": [
      "\u001b[0;31m---------------------------------------------------------------------------\u001b[0m",
      "\u001b[0;31mAttributeError\u001b[0m                            Traceback (most recent call last)",
      "File \u001b[0;32m/opt/homebrew/lib/python3.11/site-packages/jupyter_bokeh/widgets.py:128\u001b[0m, in \u001b[0;36mBokehModel._sync_model\u001b[0;34m(self, _, content, _buffers)\u001b[0m\n\u001b[1;32m    126\u001b[0m new, old, attr \u001b[39m=\u001b[39m content[\u001b[39m\"\u001b[39m\u001b[39mnew\u001b[39m\u001b[39m\"\u001b[39m], content[\u001b[39m\"\u001b[39m\u001b[39mold\u001b[39m\u001b[39m\"\u001b[39m], content[\u001b[39m\"\u001b[39m\u001b[39mattr\u001b[39m\u001b[39m\"\u001b[39m]\n\u001b[1;32m    127\u001b[0m submodel \u001b[39m=\u001b[39m \u001b[39mself\u001b[39m\u001b[39m.\u001b[39m_model\u001b[39m.\u001b[39mselect_one({\u001b[39m\"\u001b[39m\u001b[39mid\u001b[39m\u001b[39m\"\u001b[39m: content[\u001b[39m\"\u001b[39m\u001b[39mid\u001b[39m\u001b[39m\"\u001b[39m]})\n\u001b[0;32m--> 128\u001b[0m descriptor \u001b[39m=\u001b[39m submodel\u001b[39m.\u001b[39;49mlookup(content[\u001b[39m'\u001b[39m\u001b[39mattr\u001b[39m\u001b[39m'\u001b[39m])\n\u001b[1;32m    129\u001b[0m \u001b[39mtry\u001b[39;00m:\n\u001b[1;32m    130\u001b[0m     descriptor\u001b[39m.\u001b[39m_set(submodel, old, new, hint\u001b[39m=\u001b[39mhint, setter\u001b[39m=\u001b[39m\u001b[39mself\u001b[39m)\n",
      "\u001b[0;31mAttributeError\u001b[0m: 'NoneType' object has no attribute 'lookup'"
     ]
    },
    {
     "ename": "AttributeError",
     "evalue": "'NoneType' object has no attribute 'lookup'",
     "output_type": "error",
     "traceback": [
      "\u001b[0;31m---------------------------------------------------------------------------\u001b[0m",
      "\u001b[0;31mAttributeError\u001b[0m                            Traceback (most recent call last)",
      "File \u001b[0;32m/opt/homebrew/lib/python3.11/site-packages/jupyter_bokeh/widgets.py:128\u001b[0m, in \u001b[0;36mBokehModel._sync_model\u001b[0;34m(self, _, content, _buffers)\u001b[0m\n\u001b[1;32m    126\u001b[0m new, old, attr \u001b[39m=\u001b[39m content[\u001b[39m\"\u001b[39m\u001b[39mnew\u001b[39m\u001b[39m\"\u001b[39m], content[\u001b[39m\"\u001b[39m\u001b[39mold\u001b[39m\u001b[39m\"\u001b[39m], content[\u001b[39m\"\u001b[39m\u001b[39mattr\u001b[39m\u001b[39m\"\u001b[39m]\n\u001b[1;32m    127\u001b[0m submodel \u001b[39m=\u001b[39m \u001b[39mself\u001b[39m\u001b[39m.\u001b[39m_model\u001b[39m.\u001b[39mselect_one({\u001b[39m\"\u001b[39m\u001b[39mid\u001b[39m\u001b[39m\"\u001b[39m: content[\u001b[39m\"\u001b[39m\u001b[39mid\u001b[39m\u001b[39m\"\u001b[39m]})\n\u001b[0;32m--> 128\u001b[0m descriptor \u001b[39m=\u001b[39m submodel\u001b[39m.\u001b[39;49mlookup(content[\u001b[39m'\u001b[39m\u001b[39mattr\u001b[39m\u001b[39m'\u001b[39m])\n\u001b[1;32m    129\u001b[0m \u001b[39mtry\u001b[39;00m:\n\u001b[1;32m    130\u001b[0m     descriptor\u001b[39m.\u001b[39m_set(submodel, old, new, hint\u001b[39m=\u001b[39mhint, setter\u001b[39m=\u001b[39m\u001b[39mself\u001b[39m)\n",
      "\u001b[0;31mAttributeError\u001b[0m: 'NoneType' object has no attribute 'lookup'"
     ]
    },
    {
     "ename": "AttributeError",
     "evalue": "'NoneType' object has no attribute 'lookup'",
     "output_type": "error",
     "traceback": [
      "\u001b[0;31m---------------------------------------------------------------------------\u001b[0m",
      "\u001b[0;31mAttributeError\u001b[0m                            Traceback (most recent call last)",
      "File \u001b[0;32m/opt/homebrew/lib/python3.11/site-packages/jupyter_bokeh/widgets.py:128\u001b[0m, in \u001b[0;36mBokehModel._sync_model\u001b[0;34m(self, _, content, _buffers)\u001b[0m\n\u001b[1;32m    126\u001b[0m new, old, attr \u001b[39m=\u001b[39m content[\u001b[39m\"\u001b[39m\u001b[39mnew\u001b[39m\u001b[39m\"\u001b[39m], content[\u001b[39m\"\u001b[39m\u001b[39mold\u001b[39m\u001b[39m\"\u001b[39m], content[\u001b[39m\"\u001b[39m\u001b[39mattr\u001b[39m\u001b[39m\"\u001b[39m]\n\u001b[1;32m    127\u001b[0m submodel \u001b[39m=\u001b[39m \u001b[39mself\u001b[39m\u001b[39m.\u001b[39m_model\u001b[39m.\u001b[39mselect_one({\u001b[39m\"\u001b[39m\u001b[39mid\u001b[39m\u001b[39m\"\u001b[39m: content[\u001b[39m\"\u001b[39m\u001b[39mid\u001b[39m\u001b[39m\"\u001b[39m]})\n\u001b[0;32m--> 128\u001b[0m descriptor \u001b[39m=\u001b[39m submodel\u001b[39m.\u001b[39;49mlookup(content[\u001b[39m'\u001b[39m\u001b[39mattr\u001b[39m\u001b[39m'\u001b[39m])\n\u001b[1;32m    129\u001b[0m \u001b[39mtry\u001b[39;00m:\n\u001b[1;32m    130\u001b[0m     descriptor\u001b[39m.\u001b[39m_set(submodel, old, new, hint\u001b[39m=\u001b[39mhint, setter\u001b[39m=\u001b[39m\u001b[39mself\u001b[39m)\n",
      "\u001b[0;31mAttributeError\u001b[0m: 'NoneType' object has no attribute 'lookup'"
     ]
    },
    {
     "ename": "AttributeError",
     "evalue": "'NoneType' object has no attribute 'lookup'",
     "output_type": "error",
     "traceback": [
      "\u001b[0;31m---------------------------------------------------------------------------\u001b[0m",
      "\u001b[0;31mAttributeError\u001b[0m                            Traceback (most recent call last)",
      "File \u001b[0;32m/opt/homebrew/lib/python3.11/site-packages/jupyter_bokeh/widgets.py:128\u001b[0m, in \u001b[0;36mBokehModel._sync_model\u001b[0;34m(self, _, content, _buffers)\u001b[0m\n\u001b[1;32m    126\u001b[0m new, old, attr \u001b[39m=\u001b[39m content[\u001b[39m\"\u001b[39m\u001b[39mnew\u001b[39m\u001b[39m\"\u001b[39m], content[\u001b[39m\"\u001b[39m\u001b[39mold\u001b[39m\u001b[39m\"\u001b[39m], content[\u001b[39m\"\u001b[39m\u001b[39mattr\u001b[39m\u001b[39m\"\u001b[39m]\n\u001b[1;32m    127\u001b[0m submodel \u001b[39m=\u001b[39m \u001b[39mself\u001b[39m\u001b[39m.\u001b[39m_model\u001b[39m.\u001b[39mselect_one({\u001b[39m\"\u001b[39m\u001b[39mid\u001b[39m\u001b[39m\"\u001b[39m: content[\u001b[39m\"\u001b[39m\u001b[39mid\u001b[39m\u001b[39m\"\u001b[39m]})\n\u001b[0;32m--> 128\u001b[0m descriptor \u001b[39m=\u001b[39m submodel\u001b[39m.\u001b[39;49mlookup(content[\u001b[39m'\u001b[39m\u001b[39mattr\u001b[39m\u001b[39m'\u001b[39m])\n\u001b[1;32m    129\u001b[0m \u001b[39mtry\u001b[39;00m:\n\u001b[1;32m    130\u001b[0m     descriptor\u001b[39m.\u001b[39m_set(submodel, old, new, hint\u001b[39m=\u001b[39mhint, setter\u001b[39m=\u001b[39m\u001b[39mself\u001b[39m)\n",
      "\u001b[0;31mAttributeError\u001b[0m: 'NoneType' object has no attribute 'lookup'"
     ]
    }
   ],
   "source": [
    "import sklearn\n",
    "import hvplot.pandas\n",
    "import pandas as pd\n",
    "pn.extension()\n",
    "\n",
    "# Pulls the US health insurance data and constructs the DataFrame\n",
    "df = pd.read_csv('https://raw.githubusercontent.com/matthewstreets/datasets/main/insurance.csv')\n",
    "\n",
    "# Sets the 'smoker' feature to boolean type and converts all values\n",
    "d = {'no': False, 'yes': True}\n",
    "df['smoker'] = df ['smoker'].map(d)\n",
    "\n",
    "hvexplorer = hvplot.explorer(df)\n",
    "hvexplorer\n"
   ]
  }
 ],
 "metadata": {
  "kernelspec": {
   "display_name": "Python 3",
   "language": "python",
   "name": "python3"
  },
  "language_info": {
   "codemirror_mode": {
    "name": "ipython",
    "version": 3
   },
   "file_extension": ".py",
   "mimetype": "text/x-python",
   "name": "python",
   "nbconvert_exporter": "python",
   "pygments_lexer": "ipython3",
   "version": "3.11.2"
  },
  "orig_nbformat": 4
 },
 "nbformat": 4,
 "nbformat_minor": 2
}
